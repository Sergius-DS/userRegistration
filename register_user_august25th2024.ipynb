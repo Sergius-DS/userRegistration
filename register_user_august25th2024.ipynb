{
  "nbformat": 4,
  "nbformat_minor": 0,
  "metadata": {
    "colab": {
      "provenance": [],
      "authorship_tag": "ABX9TyPmADrcrrzIgukTj4PYUqti",
      "include_colab_link": true
    },
    "kernelspec": {
      "name": "python3",
      "display_name": "Python 3"
    },
    "language_info": {
      "name": "python"
    }
  },
  "cells": [
    {
      "cell_type": "markdown",
      "metadata": {
        "id": "view-in-github",
        "colab_type": "text"
      },
      "source": [
        "<a href=\"https://colab.research.google.com/github/Sergius-DS/userRegistration/blob/main/register_user_august25th2024.ipynb\" target=\"_parent\"><img src=\"https://colab.research.google.com/assets/colab-badge.svg\" alt=\"Open In Colab\"/></a>"
      ]
    },
    {
      "cell_type": "markdown",
      "source": [
        "\n",
        "        **Esta es una Función que fue creada para registrar usuarios de alguna Aplicación.**"
      ],
      "metadata": {
        "id": "DaWffBHYSlO4"
      }
    },
    {
      "cell_type": "markdown",
      "source": [
        "        **This is a Function created to register Application Users. **"
      ],
      "metadata": {
        "id": "-bpB4gqOangX"
      }
    },
    {
      "cell_type": "code",
      "source": [
        "# Funciones de Validación\n",
        "top_level_domains = [\n",
        "    \".org\",\n",
        "    \".net\",\n",
        "    \".edu\",\n",
        "    \".ac\",\n",
        "    \".uk\",\n",
        "    \".es\",\n",
        "    \".com\"\n",
        "]\n",
        "\n",
        "registered_users = []\n",
        "\n",
        "def validate_name(name):\n",
        "    \"\"\" Checks that the name is greater than two characters and is a string data type.\n",
        "\n",
        " Args:\n",
        "    name (str): The inputted name from the user.\n",
        "\n",
        " Returns:\n",
        "    bool: True if the name passes the check, False otherwise.\n",
        "    \"\"\"\n",
        "    if type(name) != str:\n",
        "        return False\n",
        "    elif len(name) <= 2:\n",
        "            return False\n",
        "    else:\n",
        "        return True\n",
        "\n",
        "def validate_email(email):\n",
        "    \"\"\" Checks that the email address is in a valid format, has a username greater than 1 character, an '@' symbol, and an allowed domain that is in the `top_level_domains` variable.\n",
        "\n",
        "  Args:\n",
        "    email (str): The inputted email from the user.\n",
        "\n",
        "  Returns:\n",
        "    bool: True if the email passes the checks, False otherwise.\n",
        "    \"\"\"\n",
        "    valid_email = False\n",
        "    username = email.split('@')[0]\n",
        "    if '@' not in email:\n",
        "        return valid_email\n",
        "    if len(username) < 1:\n",
        "        return valid_email\n",
        "    for domain in top_level_domains:\n",
        "        if domain in email:\n",
        "            valid_email = True\n",
        "    return valid_email\n",
        "\n",
        "\n",
        "def validate_password(password):\n",
        "    \"\"\" Checks that the password is strong enough. It should include a capital letter, a number between 0-9 and be greater than 8 characters.\n",
        "\n",
        "  Args:\n",
        "    password (str): The inputted password from the user.\n",
        "\n",
        "  Returns:\n",
        "    bool: True if the password passes the checks, False otherwise.\n",
        "    \"\"\"\n",
        "    has_capital = False\n",
        "    has_number = False\n",
        "    if len(password) < 8:\n",
        "        return False\n",
        "    for char in password:\n",
        "       if \"A\" <= char <= \"Z\":\n",
        "           has_capital = True\n",
        "       if \"0\" <= char <= \"9\":\n",
        "           has_number = True\n",
        "    if has_capital and has_number:\n",
        "        return True\n",
        "    else:\n",
        "        return False\n"
      ],
      "metadata": {
        "id": "-d5sw1lzBfh4"
      },
      "execution_count": 24,
      "outputs": []
    },
    {
      "cell_type": "code",
      "execution_count": 25,
      "metadata": {
        "colab": {
          "base_uri": "https://localhost:8080/"
        },
        "id": "n2pRZ8m0Azs7",
        "outputId": "818e455e-a625-4797-dbd0-9cde6e4dcbc0"
      },
      "outputs": [
        {
          "output_type": "stream",
          "name": "stdout",
          "text": [
            "validate_name\n",
            "\n",
            " Checks that the name is greater than two characters and is a string data type.\n",
            "\n",
            " Args:\n",
            "    name (str): The inputted name from the user.\n",
            "\n",
            " Returns:\n",
            "    bool: True if the name passes the check, False otherwise.\n",
            "    \n",
            "--------------------\n",
            "\n",
            "validate_email\n",
            "\n",
            " Checks that the email address is in a valid format, has a username greater than 1 character, an '@' symbol, and an allowed domain that is in the `top_level_domains` variable.\n",
            "\n",
            "  Args:\n",
            "    email (str): The inputted email from the user.\n",
            "\n",
            "  Returns:\n",
            "    bool: True if the email passes the checks, False otherwise.\n",
            "    \n",
            "--------------------\n",
            "\n",
            "validate_password\n",
            "\n",
            " Checks that the password is strong enough. It should include a capital letter, a number between 0-9 and be greater than 8 characters.\n",
            "\n",
            "  Args:\n",
            "    password (str): The inputted password from the user.\n",
            "\n",
            "  Returns:\n",
            "    bool: True if the password passes the checks, False otherwise.\n",
            "    \n",
            "['.org', '.net', '.edu', '.ac', '.uk', '.es', '.com']\n"
          ]
        }
      ],
      "source": [
        "\n",
        "print(\"validate_name\\n\")\n",
        "print(validate_name.__doc__)\n",
        "print(\"--------------------\\n\")\n",
        "\n",
        "print(\"validate_email\\n\")\n",
        "print(validate_email.__doc__)\n",
        "print(\"--------------------\\n\")\n",
        "\n",
        "print(\"validate_password\\n\")\n",
        "print(validate_password.__doc__)\n",
        "\n",
        "# The top level domains variable is used in validate_email to approve only certain email domains\n",
        "print(top_level_domains)"
      ]
    },
    {
      "cell_type": "code",
      "source": [
        "def validate_user(name, email, password):\n",
        "    \"\"\"Validate the user name, email and password.\n",
        "\n",
        "    Args:\n",
        "        name (string): Name that we're attempting to validate.\n",
        "        email (string): Email address that we're attempting to validate.\n",
        "        password (string): Password that we're attempting to validate.\n",
        "\n",
        "    Returns:\n",
        "        Boolean: Will return True if all validation checks pass\n",
        "\n",
        "    Raises ValueError if validation fails.\n",
        "    \"\"\"\n",
        "\n",
        "  # Check if name is not valid, if not raise value error.\n",
        "    if validate_name(name) == False:\n",
        "        raise ValueError(\"Please make sure your name is greater than 2 characters!\")\n",
        "\n",
        "    if validate_email(email) == False:\n",
        "        raise ValueError(\"Your email address is in the incorrect format, please enter a valid email.\")\n",
        "\n",
        "    if validate_password(password) == False:\n",
        "        raise ValueError(\"Your password is too weak, ensure that your password is greater than 8 characters, contains a capital letter and a number.\")\n",
        "\n",
        "    return True\n",
        "\n",
        "\n",
        "def register_user(name, email, password):\n",
        "\n",
        "    \"\"\"Attempt to register the user if they pass validation.\n",
        "\n",
        "  Args:\n",
        "      name (string): Name of the user\n",
        "      email (string): Email address of the user\n",
        "      password (string): Password of the user\n",
        "\n",
        "  Returns:\n",
        "      Dict: Return a dictionary with the user details\n",
        "\n",
        "  Raises ValueError on missing arguments.\n",
        "    \"\"\"\n",
        "    if validate_user(name, email, password):\n",
        "        user = {\n",
        "            'name': name,\n",
        "            'email': email,\n",
        "            'password': password\n",
        "        }\n",
        "        return user\n",
        "\n",
        "  #If validation fails, return False\n",
        "    return False"
      ],
      "metadata": {
        "id": "MYQDRDMyA8Gk"
      },
      "execution_count": 26,
      "outputs": []
    },
    {
      "cell_type": "markdown",
      "source": [
        "**PRUEBA / TESTING**\n",
        "\n",
        "Fail"
      ],
      "metadata": {
        "id": "FXBNJwSVmkBi"
      }
    },
    {
      "cell_type": "markdown",
      "source": [
        "**VALIDATING USER NAME**\n",
        "\n",
        "**VALIDANDO NOMBRE DE USUARIO**"
      ],
      "metadata": {
        "id": "VLQrX-e-n17q"
      }
    },
    {
      "cell_type": "code",
      "source": [
        "#validate_user(name=\"S\", email=\"fake-email@yahoo.es\", password=\"Silenthill_*88genetics\")"
      ],
      "metadata": {
        "id": "NmPhjogfnJb6"
      },
      "execution_count": 27,
      "outputs": []
    },
    {
      "cell_type": "markdown",
      "source": [
        "---------------------------------------------------------------------------\n",
        "ValueError                                Traceback (most recent call last)\n",
        "<ipython-input-19-9f432330bd27> in <cell line: 1>()\n",
        "----> 1 validate_user(name=\"S\", email=\"fake-email@yahoo.es\", password=\"Silenthill_*88genetics\")\n",
        "\n",
        "<ipython-input-14-70ac3e0ff132> in validate_user(name, email, password)\n",
        "     15   # Check if name is not valid, if not raise value error.\n",
        "     16     if validate_name(name) == False:\n",
        "---> 17         raise ValueError(\"Please make sure your name is greater than 2 characters!\")\n",
        "     18\n",
        "     19     if validate_email(email) == False:\n",
        "\n",
        "ValueError: Please make sure your name is greater than 2 characters!"
      ],
      "metadata": {
        "id": "PZ_9SCannK4V"
      }
    },
    {
      "cell_type": "markdown",
      "source": [
        "**VALIDATING EMAIL**\n",
        "\n",
        "**VALIDANDO CORREO ELECTRÓNICO**"
      ],
      "metadata": {
        "id": "X-5_Wd_9n-fY"
      }
    },
    {
      "cell_type": "code",
      "source": [
        "#validate_user(name=\"Sergio\", email=\"fake-email@yahoo.io\", password=\"Silenthill_*88genetics\")"
      ],
      "metadata": {
        "id": "5dyoyyY5nocq"
      },
      "execution_count": 28,
      "outputs": []
    },
    {
      "cell_type": "markdown",
      "source": [
        "---------------------------------------------------------------------------\n",
        "---------------------------------------------------------------------------\n",
        "ValueError                                Traceback (most recent call last)\n",
        "<ipython-input-20-9626f3d64e64> in <cell line: 1>()\n",
        "----> 1 validate_user(name=\"Sergio\", email=\"fake-email@yahoo.io\", password=\"Silenthill_*88genetics\")\n",
        "\n",
        "<ipython-input-14-70ac3e0ff132> in validate_user(name, email, password)\n",
        "     18\n",
        "     19     if validate_email(email) == False:\n",
        "---> 20         raise ValueError(\"Your email address is in the incorrect format, please enter a valid email.\")\n",
        "     21\n",
        "     22     if validate_password(password) == False:\n",
        "\n",
        "ValueError: Your email address is in the incorrect format, please enter a valid email."
      ],
      "metadata": {
        "id": "2ZrpcfQRnnJJ"
      }
    },
    {
      "cell_type": "markdown",
      "source": [
        "**VALIDATING PASSWORD**\n",
        "\n",
        "**VALIDANDO CONTRASEÑA**"
      ],
      "metadata": {
        "id": "-hnnLZuZoGvw"
      }
    },
    {
      "cell_type": "code",
      "source": [
        "#validate_user(name=\"Sergio\", email=\"fake-email@yahoo.es\", password=\"abcds\")"
      ],
      "metadata": {
        "id": "AgpKUsa5mpkK"
      },
      "execution_count": 29,
      "outputs": []
    },
    {
      "cell_type": "markdown",
      "source": [
        "---------------------------------------------------------------------------\n",
        "---------------------------------------------------------------------------\n",
        "ValueError                                Traceback (most recent call last)\n",
        "<ipython-input-22-108450d41442> in <cell line: 1>()\n",
        "----> 1 validate_user(name=\"Sergio\", email=\"fake-email@yahoo.es\", password=\"abcds\")\n",
        "\n",
        "<ipython-input-14-70ac3e0ff132> in validate_user(name, email, password)\n",
        "     21\n",
        "     22     if validate_password(password) == False:\n",
        "---> 23         raise ValueError(\"Your password is too weak, ensure that your password is greater than 8 characters, contains a capital letter and a number.\")\n",
        "     24\n",
        "     25     return True\n",
        "\n",
        "ValueError: Your password is too weak, ensure that your password is greater than 8 characters, contains a capital letter and a number.\n"
      ],
      "metadata": {
        "id": "__wqnTo7mbPb"
      }
    },
    {
      "cell_type": "markdown",
      "source": [
        "**PRUEBA / TESTING**\n",
        "\n",
        "SUCCESS"
      ],
      "metadata": {
        "id": "sNtdhetsm5La"
      }
    },
    {
      "cell_type": "code",
      "source": [
        "validate_user(name=\"Sergio\", email=\"fake-email@yahoo.es\", password=\"Silenthill_*88genetics\")"
      ],
      "metadata": {
        "colab": {
          "base_uri": "https://localhost:8080/"
        },
        "id": "CncQQRPKJSp_",
        "outputId": "7ccf1c25-ed9d-4bda-d9bf-a6f63a5cfc74"
      },
      "execution_count": 30,
      "outputs": [
        {
          "output_type": "execute_result",
          "data": {
            "text/plain": [
              "True"
            ]
          },
          "metadata": {},
          "execution_count": 30
        }
      ]
    },
    {
      "cell_type": "code",
      "source": [
        "user = register_user(\"Sergio\", \"fake-email@gmail.com\", \"Silenthill_*88genetics\")"
      ],
      "metadata": {
        "id": "c0hB3Es-JtZa"
      },
      "execution_count": 31,
      "outputs": []
    },
    {
      "cell_type": "code",
      "source": [
        "print(user)"
      ],
      "metadata": {
        "colab": {
          "base_uri": "https://localhost:8080/"
        },
        "id": "P656E3o7J62j",
        "outputId": "1c977cc4-295c-4a7f-f229-3fcb66e9be19"
      },
      "execution_count": 32,
      "outputs": [
        {
          "output_type": "stream",
          "name": "stdout",
          "text": [
            "{'name': 'Sergio', 'email': 'fake-email@gmail.com', 'password': 'Silenthill_*88genetics'}\n"
          ]
        }
      ]
    }
  ]
}